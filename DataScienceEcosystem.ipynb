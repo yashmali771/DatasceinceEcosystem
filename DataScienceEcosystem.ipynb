{
 "cells": [
  {
   "cell_type": "markdown",
   "id": "d81ed1bc-a293-4e29-83fe-0a24ffe5999b",
   "metadata": {},
   "source": [
    "# Data Science Tools and Ecosystem"
   ]
  },
  {
   "cell_type": "markdown",
   "id": "fbc447fb-77c8-47ce-8ac6-ab367ba7f480",
   "metadata": {},
   "source": [
    "In  this notebook, Data Science Tools and Ecosystem are summarized"
   ]
  },
  {
   "cell_type": "markdown",
   "id": "d505037a-3de1-486f-8a46-59dd2deb5b44",
   "metadata": {},
   "source": [
    "**Objectives**:\n",
    "* Popular languages for Data science\n",
    "* libraries used in Data science\n",
    "* Data science tools\n",
    "* Arithmetic cell\n",
    "* multiply and add numbers\n",
    "* convert minutes to hours\n",
    "\n"
   ]
  },
  {
   "cell_type": "markdown",
   "id": "ae98bf9d-f98e-427f-9515-5d54d3832883",
   "metadata": {},
   "source": [
    "some of the popular languages that data scientists use are:\n",
    "1. Python\n",
    "2. R \n",
    "3. SQL\n",
    "4. JULIA\n",
    "5. SCALA\n",
    "6. JAVA"
   ]
  },
  {
   "cell_type": "markdown",
   "id": "e3e39d8b-d607-45b9-ba23-f890c2397032",
   "metadata": {},
   "source": [
    "some of the commonly used libraries used by Data Scientists include:\n",
    "1. NumPy\n",
    "2. Pandas\n",
    "3. Scikit-learn\n",
    "4. TensorFlow\n",
    "5. PyTorch\n",
    "6. Keras\n",
    "7. Seaborn\n",
    "8. Plotly\n",
    "9. Scipy"
   ]
  },
  {
   "cell_type": "markdown",
   "id": "0e74e571-7ce2-4f72-85bc-989afbcebce9",
   "metadata": {},
   "source": [
    "|Data Science|\n",
    "---------------\n",
    "|jupyter lab|\n",
    "| R Studio |\n",
    "| Apache Zeppelin|"
   ]
  },
  {
   "cell_type": "markdown",
   "id": "e171ff87-8a30-43dc-a7c7-d3eb040b928f",
   "metadata": {},
   "source": [
    "### Below are the few examples of evaluating arithmetic expression in Python "
   ]
  },
  {
   "cell_type": "code",
   "execution_count": 1,
   "id": "68eca04b-3c8c-436c-82d5-d0b0ad970f67",
   "metadata": {
    "tags": []
   },
   "outputs": [
    {
     "data": {
      "text/plain": [
       "17"
      ]
     },
     "execution_count": 1,
     "metadata": {},
     "output_type": "execute_result"
    }
   ],
   "source": [
    "# This is a simple arithmetic expression to multiply then add integers\n",
    "(3*4)+5"
   ]
  },
  {
   "cell_type": "code",
   "execution_count": 3,
   "id": "6371cfbc-21f9-42c3-9c1a-d0fa0975d60c",
   "metadata": {
    "tags": []
   },
   "outputs": [
    {
     "data": {
      "text/plain": [
       "3.3333333333333335"
      ]
     },
     "execution_count": 3,
     "metadata": {},
     "output_type": "execute_result"
    }
   ],
   "source": [
    "# This will convert 200 minutes to hours by \n",
    "# dividing by 60\n",
    "200/60"
   ]
  },
  {
   "cell_type": "markdown",
   "id": "a4f1f489-4a92-4358-b1be-15cf357a7ceb",
   "metadata": {
    "tags": []
   },
   "source": [
    "## Author\n",
    "Yash"
   ]
  },
  {
   "cell_type": "code",
   "execution_count": null,
   "id": "5f0cc71a-43d6-4463-a85d-314ecf1230ee",
   "metadata": {},
   "outputs": [],
   "source": []
  }
 ],
 "metadata": {
  "kernelspec": {
   "display_name": "Python",
   "language": "python",
   "name": "conda-env-python-py"
  },
  "language_info": {
   "codemirror_mode": {
    "name": "ipython",
    "version": 3
   },
   "file_extension": ".py",
   "mimetype": "text/x-python",
   "name": "python",
   "nbconvert_exporter": "python",
   "pygments_lexer": "ipython3",
   "version": "3.7.12"
  }
 },
 "nbformat": 4,
 "nbformat_minor": 5
}
